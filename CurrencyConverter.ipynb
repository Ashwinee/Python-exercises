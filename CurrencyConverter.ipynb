{
 "cells": [
  {
   "cell_type": "markdown",
   "metadata": {},
   "source": [
    "Create a currency conversion application using real-time currency data from the Yahoo Finance.\n",
    "--------------------------------------------------------------------------------------------------------------"
   ]
  },
  {
   "cell_type": "code",
   "execution_count": 2,
   "metadata": {
    "collapsed": false
   },
   "outputs": [],
   "source": [
    "# imports\n",
    "import urllib\n",
    "import json\n",
    "from IPython.display import display\n",
    "import ipywidgets as widgets\n",
    "from ipywidgets import interact\n",
    "\n",
    "finance_url = 'http://finance.yahoo.com/webservice/v1/symbols/allcurrencies/quote?format=json'    # Yahoo Finance url"
   ]
  },
  {
   "cell_type": "markdown",
   "metadata": {},
   "source": [
    "__extract_currencies(url)__ : Given a url,this parse the url and then processes the JSON feed, extract the currency objects in the feed and returns the currencies in a list."
   ]
  },
  {
   "cell_type": "code",
   "execution_count": 3,
   "metadata": {
    "collapsed": false
   },
   "outputs": [],
   "source": [
    "def extract_currencies(url):\n",
    "    ''' Return a list of currency objects from the JSON feed specified by URL '''\n",
    "    urlHandle = urllib.urlopen(url)    # parsing the url\n",
    "    data = urlHandle.read()    \n",
    "    \n",
    "    try: jsonData = json.loads(data)         # Converting retrived data to parsable json\n",
    "    except: jsonData = None\n",
    "       \n",
    "    currencies = []                        \n",
    "    for i in range(len(jsonData[\"list\"][\"resources\"])):\n",
    "        currencies.append(jsonData[\"list\"][\"resources\"][i][\"resource\"][\"fields\"][\"symbol\"].partition(\"=\")[0])\n",
    "\n",
    "    return currencies\n",
    "    \n",
    "currencies = extract_currencies(finance_url)    \n",
    "    "
   ]
  },
  {
   "cell_type": "markdown",
   "metadata": {},
   "source": [
    "__build_conversion_table(currencies)__ : Given a list of currencies, this build a data structure that allows users to lookup conversion prices based on currency symbols."
   ]
  },
  {
   "cell_type": "code",
   "execution_count": 5,
   "metadata": {
    "collapsed": false
   },
   "outputs": [
    {
     "name": "stdout",
     "output_type": "stream",
     "text": [
      "{u'DZD': u'109.915001', u'NAD': u'15.742500', u'GHS': u'3.842500', u'BZD': u'2.010000', u'EGP': u'8.880950', u'BGN': u'1.734500', u'PAB': u'0.999010', u'PHP': u'46.625500', u'BOB': u'6.885000', u'DKK': u'6.596600', u'BWP': u'11.212950', u'LBP': u'1507.699951', u'TZS': u'2187.000000', u'VND': u'22282.000000', u'AOA': u'165.731995', u'KHR': u'4060.949951', u'SIT': u'216.486755', u'KYD': u'0.820000', u'LYD': u'1.304950', u'UAH': u'25.240000', u'JOD': u'0.708150', u'AWG': u'1.790000', u'SAR': u'3.750850', u'BND': u'1.376550', u'HKD': u'7.763900', u'CHF': u'0.982625', u'GIP': u'0.693900', u'BYR': u'19415.000000', u'XPF': u'105.832748', u'XPD': u'0.001711', u'BYN': u'0.000000', u'MRO': u'355.000000', u'HRK': u'6.641500', u'DJF': u'177.285004', u'SZL': u'15.742500', u'THB': u'35.623501', u'XAF': u'581.754272', u'XAG': u'0.058021', u'ETB': u'21.655001', u'UYU': u'31.565001', u'NIO': u'28.450600', u'LAK': u'8104.950195', u'SYP': u'219.856995', u'MAD': u'9.693950', u'FRF': u'5.760100', u'MZN': u'54.910000', u'SCR': u'13.258450', u'ZAR': u'15.765300', u'NPR': u'107.167999', u'ZWL': u'322.355011', u'NGN': u'199.050003', u'CRC': u'535.830017', u'AED': u'3.672950', u'GBP': u'0.684392', u'MWK': u'703.140015', u'LKR': u'145.369995', u'PKR': u'104.720001', u'HUF': u'280.454987', u'RON': u'3.990300', u'LSL': u'15.742500', u'MNT': u'2000.500000', u'AMD': u'478.739990', u'UGX': u'3353.000000', u'QAR': u'3.640200', u'XDR': u'0.709450', u'ITL': u'1700.272217', u'JMD': u'124.000000', u'TTD': u'6.674500', u'SHP': u'0.693900', u'AFN': u'68.720001', u'MMK': u'1173.500000', u'KPW': u'900.000000', u'TRY': u'2.969850', u'BDT': u'78.572952', u'YER': u'249.300003', u'CVE': u'97.699501', u'ALL': u'122.449501', u'SLL': u'3943.000000', u'MGA': u'3153.949951', u'ANG': u'1.790000', u'LRD': u'84.669998', u'RWF': u'780.260010', u'NOK': u'8.227250', u'MXV': u'3.371490', u'MOP': u'7.997700', u'INR': u'67.040001', u'MXN': u'18.344851', u'CZK': u'23.969999', u'TJS': u'7.869000', u'PYG': u'5597.944824', u'COP': u'3032.000000', u'MYR': u'4.055050', u'TMT': u'3.500000', u'MUR': u'35.099998', u'IDR': u'13412.500000', u'GEL': u'2.150000', u'FJD': u'2.110600', u'ISK': u'123.945000', u'PEN': u'3.318500', u'USD': u'1.000000', u'ILS': u'3.839050', u'DOP': u'45.904999', u'TWD': u'32.771000', u'MDL': u'19.752001', u'XPT': u'0.000949', u'ECS': u'25000.000000', u'BSD': u'0.999135', u'SEK': u'8.286200', u'HTG': u'62.030201', u'MVR': u'15.320000', u'AUD': u'1.372966', u'SRD': u'6.418500', u'CUP': u'1.000000', u'IEP': u'0.699154', u'CLF': u'0.024600', u'BBD': u'2.000000', u'KMF': u'436.315643', u'KRW': u'1187.405029', u'GMD': u'42.849998', u'VEF': u'9.950000', u'GTQ': u'7.639500', u'ARS': u'14.120950', u'CLP': u'689.645020', u'ZMW': u'10.115000', u'EUR': u'0.886957', u'CDF': u'928.000000', u'XCD': u'2.700000', u'KZT': u'329.509949', u'RUB': u'65.217003', u'OMR': u'0.385150', u'BRL': u'3.527000', u'SBD': u'7.805843', u'PLN': u'3.901700', u'KES': u'101.097504', u'SVC': u'8.727000', u'DEM': u'1.717450', u'MKD': u'54.610001', u'AZN': u'1.500150', u'TOP': u'2.218013', u'VUV': u'110.985001', u'GNF': u'7304.950195', u'WST': u'2.579469', u'IQD': u'1181.500000', u'ERN': u'16.180000', u'BAM': u'1.734600', u'CAD': u'1.292550', u'CYP': u'0.519550', u'KWD': u'0.301850', u'BIF': u'1559.400024', u'PGK': u'3.166350', u'SOS': u'614.950012', u'HNL': u'22.592501', u'SGD': u'1.376730', u'UZS': u'2914.100098', u'STD': u'21725.000000', u'IRR': u'30370.000000', u'CNY': u'6.538100', u'XOF': u'581.754272', u'TND': u'2.061550', u'GYD': u'207.210007', u'NZD': u'1.474057', u'FKP': u'0.659800', u'LVL': u'0.620550', u'CNH': u'6.564200', u'KGS': u'68.348701', u'BTN': u'66.980003', u'BMD': u'0.999950', u'XCP': u'0.481696', u'RSD': u'108.904999', u'BHD': u'0.376950', u'LTL': u'3.048700', u'JPY': u'109.710503', u'SDG': u'6.084700', u'XAU': u'0.000786'}\n"
     ]
    }
   ],
   "source": [
    "def build_conversion_table(currencies):\n",
    "    ''' Return a data structure that maps currency symbols to currency prices '''  \n",
    "    urlHandle = urllib.urlopen(finance_url)    # parsing the url\n",
    "    data = urlHandle.read()    \n",
    "    \n",
    "    try: jsonData = json.loads(data)         # Converting retrived data to parsable json\n",
    "    except: jsonData = None\n",
    "                       \n",
    "    currency_conv_table = {}            \n",
    "    for i in range(len(currencies)):\n",
    "        currency = jsonData[\"list\"][\"resources\"][i][\"resource\"][\"fields\"][\"symbol\"].partition(\"=\")[0]\n",
    "        price = jsonData[\"list\"][\"resources\"][i][\"resource\"][\"fields\"][\"price\"]\n",
    "        currency_conv_table[currency] = price\n",
    "\n",
    "    return currency_conv_table\n",
    "\n",
    "conversion_table = build_conversion_table(currencies)\n",
    "print conversion_table"
   ]
  },
  {
   "cell_type": "markdown",
   "metadata": {},
   "source": [
    "__currency_converter(dollars, symbol)__ : Given an amount in dollars, this converts the dollars into the foreign currency specified by symbol and prints the result."
   ]
  },
  {
   "cell_type": "code",
   "execution_count": 6,
   "metadata": {
    "collapsed": false
   },
   "outputs": [
    {
     "name": "stdout",
     "output_type": "stream",
     "text": [
      "10 dollars = 670.40001 INR\n"
     ]
    }
   ],
   "source": [
    "def currency_converter(dollars, symbol):\n",
    "    ''' Prints the amount in dollars to the amount specified by the foreign currency symbol '''\n",
    "    conversion_table = build_conversion_table(currencies)\n",
    "    \n",
    "    if symbol in conversion_table:\n",
    "        dollars_in_symbol = float(dollars) * float(conversion_table[symbol])\n",
    "    else: \n",
    "        print \"Wrong currency\"\n",
    "        return\n",
    "    \n",
    "    print(\"{} dollars = {} {}\").format(dollars,dollars_in_symbol,symbol)\n",
    "\n",
    "currency_converter(10,\"INR\")    "
   ]
  },
  {
   "cell_type": "markdown",
   "metadata": {},
   "source": [
    "### An interactive currency converter"
   ]
  },
  {
   "cell_type": "code",
   "execution_count": 7,
   "metadata": {
    "collapsed": false
   },
   "outputs": [
    {
     "name": "stdout",
     "output_type": "stream",
     "text": [
      "1 dollars = 1187.234985 KRW\n"
     ]
    },
    {
     "data": {
      "text/plain": [
       "<function __main__.currency_converter>"
      ]
     },
     "execution_count": 7,
     "metadata": {},
     "output_type": "execute_result"
    }
   ],
   "source": [
    "interact(currency_converter, dollars='1', symbol= widgets.Select(options=currencies))"
   ]
  },
  {
   "cell_type": "code",
   "execution_count": null,
   "metadata": {
    "collapsed": true
   },
   "outputs": [],
   "source": []
  }
 ],
 "metadata": {
  "kernelspec": {
   "display_name": "Python 2",
   "language": "python",
   "name": "python2"
  },
  "language_info": {
   "codemirror_mode": {
    "name": "ipython",
    "version": 2
   },
   "file_extension": ".py",
   "mimetype": "text/x-python",
   "name": "python",
   "nbconvert_exporter": "python",
   "pygments_lexer": "ipython2",
   "version": "2.7.11"
  }
 },
 "nbformat": 4,
 "nbformat_minor": 0
}
