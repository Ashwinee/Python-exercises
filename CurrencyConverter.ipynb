{
 "cells": [
  {
   "cell_type": "markdown",
   "metadata": {},
   "source": [
    "Create a currency conversion application using real-time currency data from the Yahoo Finance.\n",
    "--------------------------------------------------------------------------------------------------------------"
   ]
  },
  {
   "cell_type": "code",
   "execution_count": 55,
   "metadata": {
    "collapsed": false
   },
   "outputs": [],
   "source": [
    "# imports\n",
    "import urllib\n",
    "import json\n",
    "from IPython.display import display\n",
    "import ipywidgets as widgets\n",
    "from ipywidgets import interact\n",
    "\n",
    "finance_url = 'http://finance.yahoo.com/webservice/v1/symbols/allcurrencies/quote?format=json'    # Yahoo Finance url"
   ]
  },
  {
   "cell_type": "markdown",
   "metadata": {},
   "source": [
    "__extract_currencies(url)__ : Given a url,this parse the url and then processes the JSON feed, extract the currency objects in the feed and returns the currencies in a list."
   ]
  },
  {
   "cell_type": "code",
   "execution_count": 35,
   "metadata": {
    "collapsed": false
   },
   "outputs": [],
   "source": [
    "def extract_currencies(url):\n",
    "    ''' Return a list of currency objects from the JSON feed specified by URL '''\n",
    "    urlHandle = urllib.urlopen(url)    # parsing the url\n",
    "    data = urlHandle.read()    \n",
    "    \n",
    "    try: jsonData = json.loads(data)         # Converting retrived data to parsable json\n",
    "    except: jsonData = None\n",
    "       \n",
    "    currencies = []                        \n",
    "    for i in range(len(jsonData[\"list\"][\"resources\"])):\n",
    "        currencies.append(jsonData[\"list\"][\"resources\"][i][\"resource\"][\"fields\"][\"symbol\"].partition(\"=\")[0])\n",
    "\n",
    "    return currencies\n",
    "    \n",
    "currencies = extract_currencies(finance_url)    \n",
    "    "
   ]
  },
  {
   "cell_type": "markdown",
   "metadata": {},
   "source": [
    "__build_conversion_table(currencies)__ : Given a list of currencies, this build a data structure that allows users to lookup conversion prices based on currency symbols."
   ]
  },
  {
   "cell_type": "code",
   "execution_count": 36,
   "metadata": {
    "collapsed": false
   },
   "outputs": [
    {
     "name": "stdout",
     "output_type": "stream",
     "text": [
      "{u'DZD': u'109.875000', u'NAD': u'15.829050', u'GHS': u'3.840000', u'BZD': u'2.010000', u'EGP': u'8.873950', u'BGN': u'1.733750', u'PAB': u'1.000675', u'PHP': u'46.670502', u'BOB': u'6.890000', u'DKK': u'6.600950', u'BWP': u'11.188450', u'LBP': u'1507.500000', u'TZS': u'2191.750000', u'VND': u'22302.500000', u'AOA': u'165.731995', u'KHR': u'4069.750000', u'SIT': u'216.486755', u'KYD': u'0.820000', u'LYD': u'1.347800', u'UAH': u'25.240000', u'JOD': u'0.709500', u'AWG': u'1.790000', u'SAR': u'3.750550', u'BND': u'1.376950', u'HKD': u'7.763550', u'CHF': u'0.982920', u'GIP': u'0.691000', u'BYR': u'19385.000000', u'XPF': u'105.954903', u'XPD': u'0.001711', u'BYN': u'0.000000', u'MRO': u'355.929993', u'HRK': u'6.646850', u'DJF': u'177.294998', u'SZL': u'15.829050', u'THB': u'35.571499', u'XAF': u'582.425720', u'XAG': u'0.058021', u'ETB': u'21.670000', u'UYU': u'31.594999', u'NIO': u'28.450600', u'LAK': u'8105.950195', u'SYP': u'219.856995', u'MAD': u'9.690550', u'FRF': u'5.760100', u'MZN': u'54.599998', u'SCR': u'13.226450', u'ZAR': u'15.844950', u'NPR': u'107.103996', u'ZWL': u'322.355011', u'NGN': u'199.225006', u'CRC': u'535.500000', u'AED': u'3.672950', u'GBP': u'0.693924', u'MWK': u'703.140015', u'LKR': u'146.604996', u'PKR': u'104.720001', u'HUF': u'280.184998', u'RON': u'3.987400', u'LSL': u'15.829050', u'MNT': u'2002.500000', u'AMD': u'478.739990', u'UGX': u'3350.000000', u'QAR': u'3.640600', u'XDR': u'0.710750', u'ITL': u'1700.272217', u'JMD': u'124.000000', u'TTD': u'6.660000', u'SHP': u'0.701600', u'AFN': u'68.639999', u'MMK': u'1172.300049', u'KPW': u'900.000000', u'TRY': u'2.981350', u'BDT': u'78.703453', u'YER': u'249.500000', u'CVE': u'97.476997', u'ALL': u'123.979500', u'SLL': u'3948.000000', u'MGA': u'3162.350098', u'ANG': u'1.790000', u'LRD': u'84.669998', u'RWF': u'780.010010', u'NOK': u'8.241650', u'MXV': u'3.371490', u'MOP': u'7.996350', u'INR': u'66.930000', u'MXN': u'18.425699', u'CZK': u'23.980499', u'TJS': u'7.869000', u'PYG': u'5632.500000', u'COP': u'3012.850098', u'MYR': u'4.049050', u'TMT': u'3.500000', u'MUR': u'35.200001', u'IDR': u'13392.500000', u'GEL': u'2.175000', u'FJD': u'2.110600', u'ISK': u'124.135002', u'PEN': u'3.312100', u'USD': u'1.000000', u'ILS': u'3.834000', u'DOP': u'45.810001', u'TWD': u'32.724998', u'MDL': u'19.730000', u'XPT': u'0.000949', u'ECS': u'25000.000000', u'BSD': u'1.000740', u'SEK': u'8.282600', u'HTG': u'62.030201', u'MVR': u'15.320000', u'AUD': u'1.374004', u'SRD': u'6.301500', u'CUP': u'1.000000', u'IEP': u'0.699154', u'CLF': u'0.024600', u'BBD': u'2.000000', u'KMF': u'436.819305', u'KRW': u'1184.844971', u'GMD': u'42.805000', u'VEF': u'9.950000', u'GTQ': u'7.639500', u'ARS': u'14.139950', u'CLP': u'691.565002', u'ZMW': u'10.110000', u'EUR': u'0.887390', u'CDF': u'927.000000', u'XCD': u'2.700000', u'KZT': u'329.314941', u'RUB': u'65.315804', u'OMR': u'0.385000', u'BRL': u'3.489200', u'SBD': u'7.805843', u'PLN': u'3.900550', u'KES': u'100.892998', u'SVC': u'8.727200', u'DEM': u'1.717450', u'MKD': u'54.642502', u'AZN': u'1.500150', u'TOP': u'2.216961', u'VUV': u'110.985001', u'GNF': u'7325.000000', u'WST': u'2.578062', u'IQD': u'1166.849976', u'ERN': u'16.180000', u'BAM': u'1.736600', u'CAD': u'1.297555', u'CYP': u'0.519550', u'KWD': u'0.302050', u'BIF': u'1560.650024', u'PGK': u'3.166350', u'SOS': u'598.000000', u'HNL': u'22.592501', u'SGD': u'1.376635', u'UZS': u'2914.100098', u'STD': u'21654.500000', u'IRR': u'30367.000000', u'CNY': u'6.532100', u'XOF': u'582.425720', u'TND': u'2.063550', u'GYD': u'207.210007', u'NZD': u'1.477072', u'FKP': u'0.659800', u'LVL': u'0.620550', u'CNH': u'6.556600', u'KGS': u'68.348701', u'BTN': u'66.940002', u'BMD': u'0.999950', u'XCP': u'0.484261', u'RSD': u'108.870003', u'BHD': u'0.377000', u'LTL': u'3.048700', u'JPY': u'109.382500', u'SDG': u'6.099100', u'XAU': u'0.000787'}\n"
     ]
    }
   ],
   "source": [
    "def build_conversion_table(currencies):\n",
    "    ''' Return a data structure that maps currency symbols to currency prices '''  \n",
    "    urlHandle = urllib.urlopen(url)    # parsing the url\n",
    "    data = urlHandle.read()    \n",
    "    \n",
    "    try: jsonData = json.loads(data)         # Converting retrived data to parsable json\n",
    "    except: jsonData = None\n",
    "                       \n",
    "    currency_conv_table = {}            \n",
    "    for i in range(len(currencies)):\n",
    "        currency = jsonData[\"list\"][\"resources\"][i][\"resource\"][\"fields\"][\"symbol\"].partition(\"=\")[0]\n",
    "        price = jsonData[\"list\"][\"resources\"][i][\"resource\"][\"fields\"][\"price\"]\n",
    "        currency_conv_table[currency] = price\n",
    "\n",
    "    return currency_conv_table\n",
    "\n",
    "conversion_table = build_conversion_table(currencies)\n",
    "print conversion_table"
   ]
  },
  {
   "cell_type": "markdown",
   "metadata": {},
   "source": [
    "__currency_converter(dollars, symbol)__ : Given an amount in dollars, this converts the dollars into the foreign currency specified by symbol and prints the result."
   ]
  },
  {
   "cell_type": "code",
   "execution_count": 50,
   "metadata": {
    "collapsed": false
   },
   "outputs": [
    {
     "name": "stdout",
     "output_type": "stream",
     "text": [
      "10 dollars = 669.90448 INR\n"
     ]
    }
   ],
   "source": [
    "def currency_converter(dollars, symbol):\n",
    "    ''' Prints the amount in dollars to the amount specified by the foreign currency symbol '''\n",
    "    conversion_table = build_conversion_table(currencies)\n",
    "    \n",
    "    if symbol in conversion_table:\n",
    "        dollars_in_symbol = float(dollars) * float(conversion_table[symbol])\n",
    "    else: \n",
    "        print \"Wrong currency\"\n",
    "        return\n",
    "    \n",
    "    print(\"{} dollars = {} {}\").format(dollars,dollars_in_symbol,symbol)\n",
    "\n",
    "currency_converter(10,\"INR\")    "
   ]
  },
  {
   "cell_type": "markdown",
   "metadata": {},
   "source": [
    "### An interactive currency converter"
   ]
  },
  {
   "cell_type": "code",
   "execution_count": 56,
   "metadata": {
    "collapsed": false
   },
   "outputs": [
    {
     "name": "stdout",
     "output_type": "stream",
     "text": [
      "1 dollars = 1185.055054 KRW\n"
     ]
    },
    {
     "data": {
      "text/plain": [
       "<function __main__.currency_converter>"
      ]
     },
     "execution_count": 56,
     "metadata": {},
     "output_type": "execute_result"
    }
   ],
   "source": [
    "interact(currency_converter, dollars='1', symbol= widgets.Select(options=currencies))"
   ]
  },
  {
   "cell_type": "code",
   "execution_count": null,
   "metadata": {
    "collapsed": true
   },
   "outputs": [],
   "source": []
  }
 ],
 "metadata": {
  "kernelspec": {
   "display_name": "Python 2",
   "language": "python",
   "name": "python2"
  },
  "language_info": {
   "codemirror_mode": {
    "name": "ipython",
    "version": 2
   },
   "file_extension": ".py",
   "mimetype": "text/x-python",
   "name": "python",
   "nbconvert_exporter": "python",
   "pygments_lexer": "ipython2",
   "version": "2.7.11"
  }
 },
 "nbformat": 4,
 "nbformat_minor": 0
}
