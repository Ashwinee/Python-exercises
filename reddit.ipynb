{
 "cells": [
  {
   "cell_type": "markdown",
   "metadata": {},
   "source": [
    "Use Requests to fetch JSON data from your favorite subreddit:\n",
    "How do you access the text of the response?\n",
    "How do you access the JSON of the response?\n",
    "Explore the JSON data. Write a code snippet that prints out the title of the subreddit post with the highest score."
   ]
  },
  {
   "cell_type": "code",
   "execution_count": 1,
   "metadata": {
    "collapsed": false
   },
   "outputs": [
    {
     "name": "stdout",
     "output_type": "stream",
     "text": [
      "Ubuntu 16.04 LTS released with Python 3.5 as standard, rather than Pyhon 2.7!\n"
     ]
    }
   ],
   "source": [
    "import requests\n",
    "import json\n",
    "\n",
    "headers  = {'user-agent': 'my-python-request'}\n",
    "response = requests.get('https://reddit.com/r/Python/.json', headers=headers)\n",
    "\n",
    "# Access text of the response.\n",
    "#response.text\n",
    "# Access json of the message\n",
    "#response.json()\n",
    "\n",
    "try: js = response.json()\n",
    "except: js = None\n",
    "\n",
    "#print type(js)    \n",
    "#print json.dumps(js, indent=4)\n",
    "\n",
    "#len(js[\"data\"][\"children\"])\n",
    "score_title = {}\n",
    "\n",
    "for x in js[\"data\"][\"children\"]:\n",
    "    score_title[x['data']['score']] = x['data']['title']\n",
    "\n",
    "print score_title[sorted(score_title.keys(), reverse=True)[0]]"
   ]
  },
  {
   "cell_type": "code",
   "execution_count": null,
   "metadata": {
    "collapsed": true
   },
   "outputs": [],
   "source": []
  }
 ],
 "metadata": {
  "kernelspec": {
   "display_name": "Python 2",
   "language": "python",
   "name": "python2"
  },
  "language_info": {
   "codemirror_mode": {
    "name": "ipython",
    "version": 2
   },
   "file_extension": ".py",
   "mimetype": "text/x-python",
   "name": "python",
   "nbconvert_exporter": "python",
   "pygments_lexer": "ipython2",
   "version": "2.7.11"
  }
 },
 "nbformat": 4,
 "nbformat_minor": 0
}
