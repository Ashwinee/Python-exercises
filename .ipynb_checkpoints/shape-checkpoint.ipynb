{
 "cells": [
  {
   "cell_type": "markdown",
   "metadata": {},
   "source": [
    "Build two functions to generate SVG (Scalable Vector Graphics) code to draw a circle and a square. \n",
    "---------------------------------------------------------------------------------------------------\n",
    "You will then use these functions inside a third function that will draw one of the shapes based on interactive user inputs provided by Jupyter's interaction module.\n",
    "\n",
    "As you can see below, there are three functions you need to complete:\n",
    "\n",
    "1. **draw_circle**: This function takes the x and y center coordinates, radius, stroke_color, stroke_width, and fill_color of the circle and generates a properly formatted string representing the SVG code corresponding to the specified circle.\n",
    "\n",
    "2. **draw_square**: This function takes the x and y top-left corner coordinates, length, stroke_color, stroke_width, and fill_color of the square and generates a properly formatted string representing the SVG code corresponding to the specified square.\n",
    "\n",
    "3. **draw_shape**: This function receives the shape string, graphic_size, shape_size, stroke_color, stroke_width, and fill_color from the user and generates the appropriate SVG code for the specified shape and parameters."
   ]
  },
  {
   "cell_type": "code",
   "execution_count": 1,
   "metadata": {
    "collapsed": false,
    "scrolled": true
   },
   "outputs": [
    {
     "data": {
      "text/html": [
       "<svg width=400 height=300>\n",
       "                    <circle cx=125 cy=125 r=62 stroke=red stroke-width=5 fill=red />\n",
       "                 </svg>\n",
       "              "
      ],
      "text/plain": [
       "<IPython.core.display.HTML object>"
      ]
     },
     "metadata": {},
     "output_type": "display_data"
    },
    {
     "data": {
      "text/plain": [
       "<function __main__.draw_shape>"
      ]
     },
     "execution_count": 1,
     "metadata": {},
     "output_type": "execute_result"
    }
   ],
   "source": [
    "from IPython.display import HTML, display\n",
    "from IPython.html.widgets.interaction import interact\n",
    "\n",
    "# Constants\n",
    "\n",
    "GRAPHIC_WIDTH  = 400\n",
    "GRAPHIC_HEIGHT = 300\n",
    "STROKE_COLOR   = 'black'\n",
    "STROKE_WIDTH   = 0\n",
    "FILL_COLOR     = 'blue'\n",
    "COLORS         = ('red', 'orange', 'yellow', 'green', 'purple', 'blue', 'black', 'white')\n",
    "\n",
    "# Functions\n",
    "\n",
    "def draw_circle(x, y, radius, stroke_color=STROKE_COLOR, stroke_width=STROKE_WIDTH, fill_color=FILL_COLOR):\n",
    "    \"\"\" Return SVG string corresponding to a circle with the specified parameters \"\"\"\n",
    "    html_cc = '''<svg width={} height={}>\n",
    "                    <circle cx={} cy={} r={} stroke={} stroke-width={} fill={} />\n",
    "                 </svg>\n",
    "              '''.format(GRAPHIC_WIDTH,GRAPHIC_HEIGHT,x,y,radius,stroke_color,stroke_width,fill_color)\n",
    "    return(html_cc)\n",
    "    \n",
    "\n",
    "def draw_square(x, y, length, stroke_color=STROKE_COLOR, stroke_width=STROKE_WIDTH, fill_color=FILL_COLOR):\n",
    "    \"\"\" Return SVG string corresponding to a square with the specified parameters \"\"\"\n",
    "    html_sq = '''<svg width={} height={}>\n",
    "                    <rect x={} y={} width={} height={} stroke={} stroke-width={} fill={} />\n",
    "                  </svg>\n",
    "              '''.format(GRAPHIC_WIDTH,GRAPHIC_HEIGHT,x,y,length,length,stroke_color,stroke_width,fill_color)\n",
    "    return(html_sq) \n",
    "\n",
    "def draw_shape(shape, graphic_size, shape_size, stroke_color, stroke_width, fill_color):\n",
    "    \"\"\" Display the HTML code containing the specified shape and parameters \"\"\"\n",
    "     \n",
    "    if shape == 'circle':\n",
    "        x = graphic_size / 2\n",
    "        y = graphic_size / 2\n",
    "        radius  = shape_size *  graphic_size / 100 / 2\n",
    "        html =  draw_circle(x,y,radius,stroke_color,stroke_width,fill_color) \n",
    "        display(HTML(html))\n",
    "    else: \n",
    "        length  = shape_size * graphic_size / 100\n",
    "        x = graphic_size / 2 - length / 2\n",
    "        y = graphic_size / 2 - length / 2\n",
    "        html =  draw_square(x,y,length,stroke_color,stroke_width,fill_color) \n",
    "        display(HTML(html))\n",
    "\n",
    "# Run interactive loop\n",
    "interact(draw_shape, shape=('circle', 'square'), graphic_size=(100, 400), shape_size=(1, 100),stroke_color=COLORS,\n",
    "         stroke_width=(1, 10), fill_color=COLORS)"
   ]
  }
 ],
 "metadata": {
  "kernelspec": {
   "display_name": "Python 2",
   "language": "python",
   "name": "python2"
  },
  "language_info": {
   "codemirror_mode": {
    "name": "ipython",
    "version": 2
   },
   "file_extension": ".py",
   "mimetype": "text/x-python",
   "name": "python",
   "nbconvert_exporter": "python",
   "pygments_lexer": "ipython2",
   "version": "2.7.11"
  }
 },
 "nbformat": 4,
 "nbformat_minor": 0
}
